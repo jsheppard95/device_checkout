{
 "cells": [
  {
   "cell_type": "code",
   "execution_count": 1,
   "metadata": {},
   "outputs": [],
   "source": [
    "# Import necessary packages\n",
    "from pcdsdevices.epics_motor import IMS"
   ]
  },
  {
   "cell_type": "code",
   "execution_count": 2,
   "metadata": {},
   "outputs": [],
   "source": [
    "## Test Basic Motion\n",
    "# Test motor setup:\n",
    "PV = 'XCS:USR:MMS:17'\n",
    "name = 'xcs_usr_mms_17'\n",
    "m = IMS(PV, name=name)"
   ]
  },
  {
   "cell_type": "code",
   "execution_count": 3,
   "metadata": {},
   "outputs": [],
   "source": [
    "# Test move in positive direction:\n",
    "curr_pos = m.user_readback.get()\n",
    "desired_pos = curr_pos + 1.0  # Not a good way to do things - units???\n",
    "m.user_setpoint.put(desired_pos)  # Wait for move to complete"
   ]
  },
  {
   "cell_type": "code",
   "execution_count": 4,
   "metadata": {},
   "outputs": [
    {
     "name": "stdout",
     "output_type": "stream",
     "text": [
      "Positive move successful\n"
     ]
    }
   ],
   "source": [
    "# Check positive move was successful\n",
    "# After move has finished:\n",
    "# TODO: Measure time for move to complete\n",
    "curr_pos = m.user_readback.get()\n",
    "if curr_pos == desired_pos:\n",
    "    move_pos = True\n",
    "    print('Positive move successful')"
   ]
  },
  {
   "cell_type": "code",
   "execution_count": 5,
   "metadata": {},
   "outputs": [],
   "source": [
    "# Test move in negative direction:\n",
    "desired_pos = curr_pos - 1.0\n",
    "m.user_setpoint.put(desired_pos)  # Wait for move to complete"
   ]
  },
  {
   "cell_type": "code",
   "execution_count": 6,
   "metadata": {},
   "outputs": [
    {
     "name": "stdout",
     "output_type": "stream",
     "text": [
      "Negative move successful\n"
     ]
    }
   ],
   "source": [
    "# Check negative move was successful\n",
    "# After move has finished\n",
    "# TODO: Measure time for move to complete\n",
    "curr_pos = m.user_readback.get()\n",
    "if curr_pos == desired_pos:\n",
    "    move_neg = True\n",
    "    print('Negative move successful')"
   ]
  },
  {
   "cell_type": "code",
   "execution_count": null,
   "metadata": {},
   "outputs": [],
   "source": [
    "## Test limit switch activation\n",
    "# High limit switch:\n",
    "# User activates HLS - continue to next cell when ready"
   ]
  },
  {
   "cell_type": "code",
   "execution_count": null,
   "metadata": {},
   "outputs": [],
   "source": [
    "if m.high_limit_switch.get() == 1:\n",
    "    hls_activated = True\n",
    "    print('High limit switch activated')"
   ]
  },
  {
   "cell_type": "code",
   "execution_count": null,
   "metadata": {},
   "outputs": [],
   "source": [
    "# Low limit switch:\n",
    "# User activates LLS - continue to next cell when ready"
   ]
  },
  {
   "cell_type": "code",
   "execution_count": null,
   "metadata": {},
   "outputs": [],
   "source": [
    "if m.low_limit_switch.get() == 1:\n",
    "    lls_activated = True\n",
    "    print('Low limit switch activated')"
   ]
  }
 ],
 "metadata": {
  "kernelspec": {
   "display_name": "Python 3",
   "language": "python",
   "name": "python3"
  },
  "language_info": {
   "codemirror_mode": {
    "name": "ipython",
    "version": 3
   },
   "file_extension": ".py",
   "mimetype": "text/x-python",
   "name": "python",
   "nbconvert_exporter": "python",
   "pygments_lexer": "ipython3",
   "version": "3.6.8"
  }
 },
 "nbformat": 4,
 "nbformat_minor": 2
}
